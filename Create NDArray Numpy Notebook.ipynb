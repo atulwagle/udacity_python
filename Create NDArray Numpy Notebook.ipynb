{
 "cells": [
  {
   "cell_type": "code",
   "execution_count": null,
   "metadata": {},
   "outputs": [],
   "source": [
    "import numpy as np\n",
    "\n",
    "x = np.array(['Hello', 'World'])\n",
    "\n",
    "# We print x\n",
    "print()\n",
    "print('x = ', x)\n",
    "print()\n",
    "\n",
    "# We print information about x\n",
    "print('x has dimensions:', x.shape)\n",
    "print('x is an object of type:', type(x))\n",
    "print('The elements in x are of type:', x.dtype)"
   ]
  },
  {
   "cell_type": "code",
   "execution_count": null,
   "metadata": {},
   "outputs": [],
   "source": [
    "# We create a rank 2 ndarray that only contains integers\n",
    "Y = np.array([[1,2,3],[4,5,6],[7,8,9], [10,11,12]])\n",
    "\n",
    "# We print Y\n",
    "print()\n",
    "print('Y = \\n', Y)\n",
    "print()\n",
    "\n",
    "# We print information about Y\n",
    "print('Y has dimensions:', Y.shape)\n",
    "print('Y has a total of', Y.size, 'elements')\n",
    "print('Y is an object of type:', type(Y))\n",
    "print('The elements in Y are of type:', Y.dtype)"
   ]
  },
  {
   "cell_type": "code",
   "execution_count": null,
   "metadata": {},
   "outputs": [],
   "source": [
    "# We create a rank 1 ndarray of floats but set the dtype to int64\n",
    "x = np.array([1.5, 2.2, 3.7, 4.0, 5.9], dtype = np.int64)\n",
    "\n",
    "# We print x\n",
    "print()\n",
    "print('x = ', x)\n",
    "print()\n",
    "\n",
    "# We print the dtype x\n",
    "print('The elements in x are of type:', x.dtype)"
   ]
  },
  {
   "cell_type": "code",
   "execution_count": null,
   "metadata": {},
   "outputs": [],
   "source": [
    "%pdb\n",
    "\n",
    "# We create a rank 1 ndarray\n",
    "x = np.array([1, 2, 3, 4, 5])\n",
    "\n",
    "# We save x into the current directory as \n",
    "np.save('my_array', x)\n",
    "\n",
    "# We load the saved array from our current directory into variable y\n",
    "y = np.load('my_array.npy')\n",
    "\n",
    "# We print y\n",
    "print()\n",
    "print('y = ', y)\n",
    "print()\n",
    "\n",
    "# We print information about the ndarray we loaded\n",
    "print('y is an object of type:', type(y))\n",
    "print('The elements in y are of type:', y.dtype)"
   ]
  },
  {
   "cell_type": "code",
   "execution_count": null,
   "metadata": {},
   "outputs": [],
   "source": [
    "# We create a 3 x 4 ndarray full of zeros. \n",
    "X = np.zeros((3,4))\n",
    "\n",
    "# We print X\n",
    "print()\n",
    "print('X = \\n', X)\n",
    "print()\n",
    "\n",
    "# We print information about X\n",
    "print('X has dimensions:', X.shape)\n",
    "print('X is an object of type:', type(X))\n",
    "print('The elements in X are of type:', X.dtype)\n",
    "\n",
    "# We create a 3 x 2 ndarray full of ones. \n",
    "X = np.ones((3,2))\n",
    "\n",
    "# We print X\n",
    "print()\n",
    "print('X = \\n', X)\n",
    "print()\n",
    "\n",
    "# We print information about X\n",
    "print('X has dimensions:', X.shape)\n",
    "print('X is an object of type:', type(X))\n",
    "print('The elements in X are of type:', X.dtype) \n",
    "\n",
    "# We create a 2 x 3 ndarray full of fives. \n",
    "X = np.full((2,3), 5) \n",
    "\n",
    "# We print X\n",
    "print()\n",
    "print('X = \\n', X)\n",
    "print()\n",
    "\n",
    "# We print information about X\n",
    "print('X has dimensions:', X.shape)\n",
    "print('X is an object of type:', type(X))\n",
    "print('The elements in X are of type:', X.dtype)  \n",
    "\n",
    "\n",
    "# We create a 5 x 5 Identity matrix. \n",
    "X = np.eye(5)\n",
    "\n",
    "# We print X\n",
    "print()\n",
    "print('X = \\n', X)\n",
    "print()\n",
    "\n",
    "# We print information about X\n",
    "print('X has dimensions:', X.shape)\n",
    "print('X is an object of type:', type(X))\n",
    "print('The elements in X are of type:', X.dtype)  "
   ]
  },
  {
   "cell_type": "code",
   "execution_count": null,
   "metadata": {},
   "outputs": [],
   "source": [
    "X = np.diag([10,20,30,50])\n",
    "\n",
    "# We print X\n",
    "print()\n",
    "print('X = \\n', X)\n",
    "print()"
   ]
  },
  {
   "cell_type": "code",
   "execution_count": null,
   "metadata": {},
   "outputs": [],
   "source": [
    "x = np.arange(10)\n",
    "# We print the ndarray\n",
    "print()\n",
    "print('x = ', x)\n",
    "print()\n",
    "\n",
    "# We print information about the ndarray\n",
    "print('x has dimensions:', x.shape)\n",
    "print('x is an object of type:', type(x))\n",
    "print('The elements in x are of type:', x.dtype) "
   ]
  },
  {
   "cell_type": "code",
   "execution_count": null,
   "metadata": {},
   "outputs": [],
   "source": [
    "# We create a rank 1 ndarray that has sequential integers from 4 to 9. \n",
    "x = np.arange(4,10)\n",
    "\n",
    "# We print the ndarray\n",
    "print()\n",
    "print('x = ', x)\n",
    "print()\n",
    "\n",
    "# We print information about the ndarray\n",
    "print('x has dimensions:', x.shape)\n",
    "print('x is an object of type:', type(x))\n",
    "print('The elements in x are of type:', x.dtype)\n",
    "\n",
    "# We create a rank 1 ndarray that has evenly spaced integers from 1 to 13 in steps of 3.\n",
    "x = np.arange(1,14,3)\n",
    "\n",
    "# We print the ndarray\n",
    "print()\n",
    "print('x = ', x)\n",
    "print()\n",
    "\n",
    "# We print information about the ndarray\n",
    "print('x has dimensions:', x.shape)\n",
    "print('x is an object of type:', type(x))\n",
    "print('The elements in x are of type:', x.dtype) "
   ]
  },
  {
   "cell_type": "code",
   "execution_count": null,
   "metadata": {},
   "outputs": [],
   "source": [
    "# We create a rank 1 ndarray that has 10 integers evenly spaced between 0 and 25.\n",
    "x = np.linspace(0,25,10)\n",
    "\n",
    "# We print the ndarray\n",
    "print()\n",
    "print('x = \\n', x)\n",
    "print()\n",
    "\n",
    "# We print information about the ndarray\n",
    "print('x has dimensions:', x.shape)\n",
    "print('x is an object of type:', type(x))\n",
    "print('The elements in x are of type:', x.dtype) "
   ]
  },
  {
   "cell_type": "code",
   "execution_count": null,
   "metadata": {},
   "outputs": [],
   "source": [
    "# We create a rank 1 ndarray that has 10 integers evenly spaced between 0 and 25,\n",
    "# with 25 excluded.\n",
    "x = np.linspace(0,25,10, endpoint = False)\n",
    "\n",
    "# We print the ndarray\n",
    "print()\n",
    "print('x = ', x)\n",
    "print()\n",
    "\n",
    "# We print information about the ndarray\n",
    "print('x has dimensions:', x.shape)\n",
    "print('x is an object of type:', type(x))\n",
    "print('The elements in x are of type:', x.dtype) "
   ]
  },
  {
   "cell_type": "code",
   "execution_count": 6,
   "metadata": {},
   "outputs": [
    {
     "name": "stdout",
     "output_type": "stream",
     "text": [
      "\n",
      "Original x =  [ 0  1  2  3  4  5  6  7  8  9 10 11 12 13 14 15 16 17 18 19]\n",
      "\n",
      "\n",
      "Reshaped x = \n",
      " [[ 0  1  2  3  4]\n",
      " [ 5  6  7  8  9]\n",
      " [10 11 12 13 14]\n",
      " [15 16 17 18 19]]\n",
      "\n",
      "x has dimensions: (4, 5)\n",
      "x is an object of type: <class 'numpy.ndarray'>\n",
      "The elements in x are of type: int64\n",
      "\n",
      "Reshaped x = \n",
      " [[ 0  1]\n",
      " [ 2  3]\n",
      " [ 4  5]\n",
      " [ 6  7]\n",
      " [ 8  9]\n",
      " [10 11]\n",
      " [12 13]\n",
      " [14 15]\n",
      " [16 17]\n",
      " [18 19]]\n",
      "\n",
      "x has dimensions: (10, 2)\n",
      "x is an object of type: <class 'numpy.ndarray'>\n",
      "The elements in x are of type: int64\n"
     ]
    }
   ],
   "source": [
    "import numpy as np\n",
    "\n",
    "def print_array(x):\n",
    "    # We print the reshaped x\n",
    "    print()\n",
    "    print('Reshaped x = \\n', x)\n",
    "    print()\n",
    "\n",
    "    # We print information about the reshaped x\n",
    "    print('x has dimensions:', x.shape)\n",
    "    print('x is an object of type:', type(x))\n",
    "    print('The elements in x are of type:', x.dtype) \n",
    "\n",
    "# We create a rank 1 ndarray with sequential integers from 0 to 19\n",
    "x = np.arange(20)\n",
    "\n",
    "# We print x\n",
    "print()\n",
    "print('Original x = ', x)\n",
    "print()\n",
    "\n",
    "#We reshape x into a 4 x 5 ndarray \n",
    "x = np.reshape(x, (4,5))\n",
    "print_array(x)\n",
    "\n",
    "x = np.reshape(x, (10,2))\n",
    "print_array(x)\n",
    "\n"
   ]
  },
  {
   "cell_type": "code",
   "execution_count": 9,
   "metadata": {},
   "outputs": [
    {
     "name": "stdout",
     "output_type": "stream",
     "text": [
      "\n",
      "X = \n",
      " [ 0.  5. 10. 15. 20. 25. 30. 35. 40. 45.]\n",
      "\n",
      "X has dimensions: (10,)\n",
      "X is an object of type: <class 'numpy.ndarray'>\n",
      "The elements in X are of type: float64\n",
      "\n",
      "X = \n",
      " [[ 0.  5.]\n",
      " [10. 15.]\n",
      " [20. 25.]\n",
      " [30. 35.]\n",
      " [40. 45.]]\n",
      "\n",
      "X has dimensions: (5, 2)\n",
      "X is an object of type: <class 'numpy.ndarray'>\n",
      "The elements in X are of type: float64\n"
     ]
    }
   ],
   "source": [
    "# We create a rank 1 ndarray with 10 integers evenly spaced between 0 and 50,\n",
    "# with 50 excluded. We then reshape it to a 5 x 2 ndarray\n",
    "X = np.linspace(0,50,10, endpoint=False)\n",
    "\n",
    "# We print X\n",
    "print()\n",
    "print('X = \\n', X)\n",
    "print()\n",
    "\n",
    "# We print information about X\n",
    "print('X has dimensions:', X.shape)\n",
    "print('X is an object of type:', type(X))\n",
    "print('The elements in X are of type:', X.dtype)\n",
    "\n",
    "\n",
    "X = np.linspace(0,50,10, endpoint=False).reshape(5,2)\n",
    "# We print X\n",
    "print()\n",
    "print('X = \\n', X)\n",
    "print()\n",
    "\n",
    "# We print information about X\n",
    "print('X has dimensions:', X.shape)\n",
    "print('X is an object of type:', type(X))\n",
    "print('The elements in X are of type:', X.dtype)"
   ]
  },
  {
   "cell_type": "code",
   "execution_count": 10,
   "metadata": {},
   "outputs": [
    {
     "name": "stdout",
     "output_type": "stream",
     "text": [
      "\n",
      "X = \n",
      " [[0.15088613 0.94653445 0.15847249]\n",
      " [0.54546001 0.11125694 0.65581883]\n",
      " [0.47007909 0.9533399  0.98207385]]\n",
      "\n",
      "X has dimensions: (3, 3)\n",
      "X is an object of type: <class 'numpy.ndarray'>\n",
      "The elements in x are of type: float64\n"
     ]
    }
   ],
   "source": [
    "# We create a 3 x 3 ndarray with random floats in the half-open interval [0.0, 1.0).\n",
    "X = np.random.random((3,3))\n",
    "\n",
    "# We print X\n",
    "print()\n",
    "print('X = \\n', X)\n",
    "print()\n",
    "\n",
    "# We print information about X\n",
    "print('X has dimensions:', X.shape)\n",
    "print('X is an object of type:', type(X))\n",
    "print('The elements in x are of type:', X.dtype)"
   ]
  },
  {
   "cell_type": "code",
   "execution_count": 11,
   "metadata": {},
   "outputs": [
    {
     "name": "stdout",
     "output_type": "stream",
     "text": [
      "\n",
      "X = \n",
      " [[11 14]\n",
      " [ 6 11]\n",
      " [ 4  6]]\n",
      "\n",
      "X has dimensions: (3, 2)\n",
      "X is an object of type: <class 'numpy.ndarray'>\n",
      "The elements in X are of type: int64\n"
     ]
    }
   ],
   "source": [
    "# We create a 3 x 2 ndarray with random integers in the half-open interval [4, 15).\n",
    "X = np.random.randint(4,15,size=(3,2))\n",
    "\n",
    "# We print X\n",
    "print()\n",
    "print('X = \\n', X)\n",
    "print()\n",
    "\n",
    "# We print information about X\n",
    "print('X has dimensions:', X.shape)\n",
    "print('X is an object of type:', type(X))\n",
    "print('The elements in X are of type:', X.dtype)"
   ]
  },
  {
   "cell_type": "code",
   "execution_count": 13,
   "metadata": {},
   "outputs": [
    {
     "name": "stdout",
     "output_type": "stream",
     "text": [
      "\n",
      "X = \n",
      " [[ 0.15154438  0.01276231 -0.05179235  0.05750925  0.03319774]\n",
      " [-0.06903562 -0.31822591 -0.17009799 -0.07703738  0.09458762]\n",
      " [-0.14463292 -0.08248735 -0.02647371  0.12615628 -0.0204674 ]\n",
      " [ 0.00675545  0.02388259  0.00776963 -0.04526644 -0.10075696]\n",
      " [-0.28585762 -0.10702072 -0.01751488  0.0953048  -0.08844897]]\n",
      "\n",
      "X has dimensions: (5, 5)\n",
      "X is an object of type: <class 'numpy.ndarray'>\n",
      "The elements in X are of type: float64\n",
      "The elements in X have a mean of: -0.03982584759615926\n",
      "The maximum value in X is: 0.15154438039644658\n",
      "The minimum value in X is: -0.3182259104682596\n",
      "X has 15 negative numbers\n",
      "X has 10 positive numbers\n"
     ]
    }
   ],
   "source": [
    "# We create a 1000 x 1000 ndarray of random floats drawn from normal (Gaussian) distribution\n",
    "# with a mean of zero and a standard deviation of 0.1.\n",
    "X = np.random.normal(0, 0.1, size=(5,5))\n",
    "\n",
    "# We print X\n",
    "print()\n",
    "print('X = \\n', X)\n",
    "print()\n",
    "\n",
    "# We print information about X\n",
    "print('X has dimensions:', X.shape)\n",
    "print('X is an object of type:', type(X))\n",
    "print('The elements in X are of type:', X.dtype)\n",
    "print('The elements in X have a mean of:', X.mean())\n",
    "print('The maximum value in X is:', X.max())\n",
    "print('The minimum value in X is:', X.min())\n",
    "print('X has', (X < 0).sum(), 'negative numbers')\n",
    "print('X has', (X > 0).sum(), 'positive numbers')"
   ]
  },
  {
   "cell_type": "code",
   "execution_count": 16,
   "metadata": {},
   "outputs": [
    {
     "name": "stdout",
     "output_type": "stream",
     "text": [
      "[2 4 6]\n"
     ]
    }
   ],
   "source": [
    "a=np.array([1,2,3,4,5,6])\n",
    "answer = (a[a%2==0])\n",
    "print (answer)"
   ]
  },
  {
   "cell_type": "code",
   "execution_count": 21,
   "metadata": {},
   "outputs": [
    {
     "name": "stdout",
     "output_type": "stream",
     "text": [
      "[ 2  3  4  5  6  7  8  9 10 11 12 13 14 15 16 17 18 19 20 21 22 23 24 25\n",
      " 26 27 28 29 30 31 32 33]\n",
      "[ 2  4  6  8 10 12 14 16 18 20 22 24 26 28 30 32]\n",
      "[[ 2  4  6  8]\n",
      " [10 12 14 16]\n",
      " [18 20 22 24]\n",
      " [26 28 30 32]]\n"
     ]
    }
   ],
   "source": [
    "x = np.arange(2,34)\n",
    "answer = x[x%2==0]\n",
    "print (x)\n",
    "print (answer)\n",
    "answer = answer.reshape(4,4)\n",
    "print (answer)"
   ]
  },
  {
   "cell_type": "code",
   "execution_count": null,
   "metadata": {},
   "outputs": [],
   "source": []
  }
 ],
 "metadata": {
  "kernelspec": {
   "display_name": "Python 3",
   "language": "python",
   "name": "python3"
  },
  "language_info": {
   "codemirror_mode": {
    "name": "ipython",
    "version": 3
   },
   "file_extension": ".py",
   "mimetype": "text/x-python",
   "name": "python",
   "nbconvert_exporter": "python",
   "pygments_lexer": "ipython3",
   "version": "3.7.3"
  }
 },
 "nbformat": 4,
 "nbformat_minor": 2
}
